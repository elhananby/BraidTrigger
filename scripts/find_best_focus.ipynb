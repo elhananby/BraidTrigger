{
 "cells": [
  {
   "cell_type": "code",
   "execution_count": 34,
   "metadata": {},
   "outputs": [],
   "source": [
    "import os\n",
    "import time\n",
    "\n",
    "import cv2\n",
    "import matplotlib.pyplot as plt\n",
    "import natsort\n",
    "import numpy as np\n",
    "import pandas as pd\n",
    "from opto import Opto\n",
    "from scipy.interpolate import interp1d\n",
    "from tqdm import tqdm\n",
    "from ximea import xiapi\n",
    "\n",
    "%matplotlib inline\n",
    "import seaborn as sns\n",
    "from tqdm.contrib.concurrent import process_map"
   ]
  },
  {
   "cell_type": "code",
   "execution_count": 2,
   "metadata": {},
   "outputs": [],
   "source": [
    "def detect_blur_fft(image, size=60, threshold=10):\n",
    "    (h, w) = image.shape\n",
    "    (cx, cy) = (int(w / 2.0), int(h / 2.0))\n",
    "    fft = np.fft.fft2(image)\n",
    "    fftShift = np.fft.fftshift(fft)\n",
    "\n",
    "    fftShift[cy - size : cy + size, cx - size : cx + size] = 0\n",
    "    fftShift = np.fft.ifftshift(fftShift)\n",
    "    recon = np.fft.ifft2(fftShift)\n",
    "\n",
    "    magnitude = 20 * np.log(np.abs(recon))\n",
    "    mean = np.mean(magnitude)\n",
    "\n",
    "    return (mean, mean <= threshold)\n",
    "\n",
    "\n",
    "def process_file(args):\n",
    "    file, folder = args\n",
    "    current = os.path.splitext(os.path.basename(file))[0]\n",
    "    image_path = os.path.join(folder, file)\n",
    "\n",
    "    if not os.path.exists(image_path):\n",
    "        print(f\"File not found: {image_path}\")\n",
    "        return (current, None)\n",
    "\n",
    "    image = cv2.imread(image_path, cv2.IMREAD_GRAYSCALE)\n",
    "    if image is None:\n",
    "        print(f\"Failed to read image: {image_path}\")\n",
    "        return (current, None)\n",
    "\n",
    "    mean, blurry = detect_blur_fft(image, size=60, threshold=10)\n",
    "    return (current, mean)\n",
    "\n",
    "\n",
    "def is_filename_numeric(filename):\n",
    "    name, ext = os.path.splitext(filename)\n",
    "    return name.isdigit()\n",
    "\n",
    "\n",
    "def find_best_focus_point(folder: str):\n",
    "    files = os.listdir(folder)\n",
    "    files = natsort.natsorted([f for f in files if f.endswith(\".png\")])\n",
    "    # files = [file for file in files if is_filename_numeric(file)]\n",
    "\n",
    "    args = [(file, folder) for file in files]\n",
    "    results = process_map(process_file, args, max_workers=os.cpu_count())\n",
    "\n",
    "    files_values = []\n",
    "    fft_values = []\n",
    "    for file, fft_value in results:\n",
    "        if fft_value is not None:\n",
    "            files_values.append(file.split(\"_\")[0])\n",
    "            fft_values.append(fft_value)\n",
    "\n",
    "    df = pd.DataFrame({\"current\": files_values, \"fft\": fft_values})\n",
    "\n",
    "    df.to_csv(f\"{folder}/fft_values.csv\", index=False)\n",
    "\n",
    "    max_fft_for_current = files_values[np.argmax(fft_values)]\n",
    "\n",
    "    fig = plt.figure()\n",
    "    sns.lineplot(df, x=\"current\", y=\"fft\")\n",
    "    plt.title(f\"{max_fft_for_current}\")\n",
    "    plt.savefig(f\"{folder}/fft_values.png\")\n",
    "    plt.close(fig)\n",
    "\n",
    "    return df"
   ]
  },
  {
   "cell_type": "code",
   "execution_count": 3,
   "metadata": {},
   "outputs": [],
   "source": [
    "def open_controller(dev=\"/dev/ttyACM0\"):\n",
    "    o = Opto(dev)\n",
    "    o.connect()\n",
    "    return o\n",
    "\n",
    "\n",
    "def open_camera():\n",
    "    cam = xiapi.Camera()\n",
    "    cam.open_device()\n",
    "    cam.set_exposure(1500)\n",
    "    return cam\n",
    "\n",
    "\n",
    "def find_optimal_focus_for_liquid_lens(\n",
    "    position: float, current: int, move_range: int = 10, repeats: int = 10\n",
    "):\n",
    "    o = open_controller()\n",
    "    cam = open_camera()\n",
    "\n",
    "    img = xiapi.Image()\n",
    "\n",
    "    cam.start_acquisition()\n",
    "\n",
    "    current_array = np.arange(current - move_range, current + move_range, 1)\n",
    "\n",
    "    # create calibration folder if it doesn't exist\n",
    "    try:\n",
    "        save_path = f\"/home/buchsbaum/calibration/{position:.1f}/\"\n",
    "        os.makedirs(save_path)\n",
    "    except FileExistsError:\n",
    "        pass\n",
    "\n",
    "    for _, curr in enumerate(tqdm(current_array, desc=\"Capturing images\")):\n",
    "        o.current(curr)\n",
    "        time.sleep(0.5)\n",
    "\n",
    "        for j in range(repeats):\n",
    "            cam.get_image(img)\n",
    "            data = img.get_image_data_numpy()\n",
    "\n",
    "            # save grayscale image to disk\n",
    "            cv2.imwrite(f\"{save_path}/{curr}_{j}.png\", data)\n",
    "\n",
    "    cam.stop_acquisition()\n",
    "    cam.close_device()\n",
    "    o.close(soft_close=True)\n",
    "    return save_path"
   ]
  },
  {
   "cell_type": "code",
   "execution_count": 30,
   "metadata": {},
   "outputs": [],
   "source": [
    "position = 35\n",
    "mid_current = 250\n",
    "move_range = 10"
   ]
  },
  {
   "cell_type": "code",
   "execution_count": 31,
   "metadata": {},
   "outputs": [
    {
     "name": "stderr",
     "output_type": "stream",
     "text": [
      "xiAPI: ---- xiOpenDevice API:V4.29.04.00 started ----\n",
      "xiAPI: EAL_IF_xiFAPI_Top::InitializeDevice sn:BLMID2407000 name:CB160MG-LX-X8G3\n",
      "xiAPI: Bandwidth measurement - disabling frame buffer before measurement\n",
      "xiAPI: Bandwidth measurement - frame buffer disabled OK\n",
      "xiAPI: XiApiToGentlParamModel Auto bandwidth measurement finished (7035MBps). Safe limit set to: 5628MBps\n",
      "xiAPI: SAL_Common_SetAcquisitionFrameRate framerate is limited in freerun by bandwidth to 349.5FPS\n",
      "xiAPI: FGTL_SetParam_to_CAL error from CAL: -10009, addr:x201380\n",
      "xiAPI: ---- Device opened. Model:CB160MG-LX-X8G3 SN:BLMID2407000 FwF1:22.33 API:V4.29.04.00 ----\n",
      "xiAPI: xiFAPI_Device::AllocateBuffers Allocating buffers. Count:33 OneBuff:15764 KiB All:512 MiB Frm:x1080001\n",
      "xiAPI: SAL_Common_SetAcquisitionFrameRate framerate is limited in freerun by bandwidth to 349.5FPS\n",
      "Capturing images: 100%|██████████| 20/20 [00:48<00:00,  2.42s/it]\n",
      "xiAPI: xiCloseDevice\n"
     ]
    }
   ],
   "source": [
    "save_path = find_optimal_focus_for_liquid_lens(position, mid_current, move_range)"
   ]
  },
  {
   "cell_type": "code",
   "execution_count": 32,
   "metadata": {},
   "outputs": [
    {
     "name": "stderr",
     "output_type": "stream",
     "text": [
      "100%|██████████| 200/200 [00:40<00:00,  4.92it/s]\n"
     ]
    }
   ],
   "source": [
    "focus_df = find_best_focus_point(f\"/home/buchsbaum/calibration/{position:.1f}/\")"
   ]
  },
  {
   "cell_type": "code",
   "execution_count": 45,
   "metadata": {},
   "outputs": [],
   "source": [
    "X = np.array([0.0, 7.5, 15.0, 20, 29.0, 35.0])\n",
    "y = np.array([97, 121, 144, 162, 208, 252])\n",
    "\n",
    "\n",
    "current_interpolation_function = interp1d(X, y, kind=\"linear\", fill_value=\"extrapolate\")"
   ]
  },
  {
   "cell_type": "code",
   "execution_count": null,
   "metadata": {},
   "outputs": [],
   "source": []
  }
 ],
 "metadata": {
  "kernelspec": {
   "display_name": "braid-trigger-env",
   "language": "python",
   "name": "python3"
  },
  "language_info": {
   "codemirror_mode": {
    "name": "ipython",
    "version": 3
   },
   "file_extension": ".py",
   "mimetype": "text/x-python",
   "name": "python",
   "nbconvert_exporter": "python",
   "pygments_lexer": "ipython3",
   "version": "3.1.-1"
  }
 },
 "nbformat": 4,
 "nbformat_minor": 2
}
