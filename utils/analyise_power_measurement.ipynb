{
 "cells": [
  {
   "cell_type": "code",
   "execution_count": 8,
   "metadata": {},
   "outputs": [],
   "source": [
    "import numpy as np\n",
    "import pandas as pd\n",
    "import matplotlib.pyplot as plt\n",
    "\n",
    "# import stuff for 3d plotting\n",
    "from mpl_toolkits.mplot3d import Axes3D\n",
    "from matplotlib import cm\n",
    "from matplotlib.ticker import LinearLocator, FormatStrFormatter\n",
    "%matplotlib inline"
   ]
  },
  {
   "cell_type": "code",
   "execution_count": 9,
   "metadata": {},
   "outputs": [],
   "source": [
    "df = pd.read_csv('../power_calibration.csv', sep=',')"
   ]
  },
  {
   "cell_type": "code",
   "execution_count": 10,
   "metadata": {},
   "outputs": [],
   "source": [
    "xs = []\n",
    "ys = []\n",
    "zs = []\n",
    "powers = []\n",
    "for frame, grp in df.groupby(\"frame\"):\n",
    "    \n",
    "    # average x position for frame\n",
    "    x = grp['x'].mean()\n",
    "    \n",
    "    # average y position for frame\n",
    "    y = grp['y'].mean()\n",
    "    \n",
    "    # average z position for frame\n",
    "    z = grp['z'].mean()\n",
    "    \n",
    "    # average power for frame\n",
    "    power = grp['power'].mean()\n",
    "    \n",
    "    # append to lists\n",
    "    xs.append(x)\n",
    "    ys.append(y)\n",
    "    zs.append(z)\n",
    "    powers.append(power)\n",
    "    "
   ]
  },
  {
   "cell_type": "code",
   "execution_count": 14,
   "metadata": {},
   "outputs": [
    {
     "data": {
      "text/plain": [
       "(array([[0., 0., 0., ..., 0., 0., 0.],\n",
       "        [0., 0., 0., ..., 0., 0., 0.],\n",
       "        [0., 0., 0., ..., 0., 0., 0.],\n",
       "        ...,\n",
       "        [0., 0., 0., ..., 0., 0., 0.],\n",
       "        [0., 0., 0., ..., 0., 0., 0.],\n",
       "        [0., 0., 0., ..., 0., 0., 0.]]),\n",
       " array([-0.07359199, -0.07116449, -0.06873699, -0.06630949, -0.063882  ,\n",
       "        -0.0614545 , -0.059027  , -0.0565995 , -0.054172  , -0.05174451,\n",
       "        -0.04931701, -0.04688951, -0.04446201, -0.04203451, -0.03960702,\n",
       "        -0.03717952, -0.03475202, -0.03232452, -0.02989702, -0.02746953,\n",
       "        -0.02504203, -0.02261453, -0.02018703, -0.01775953, -0.01533204,\n",
       "        -0.01290454, -0.01047704, -0.00804954, -0.00562204, -0.00319455,\n",
       "        -0.00076705,  0.00166045,  0.00408795,  0.00651545,  0.00894294,\n",
       "         0.01137044,  0.01379794,  0.01622544,  0.01865294,  0.02108043,\n",
       "         0.02350793,  0.02593543,  0.02836293,  0.03079043,  0.03321792,\n",
       "         0.03564542,  0.03807292,  0.04050042,  0.04292792,  0.04535541,\n",
       "         0.04778291]),\n",
       " array([-0.05721927, -0.05516996, -0.05312064, -0.05107132, -0.049022  ,\n",
       "        -0.04697268, -0.04492336, -0.04287404, -0.04082472, -0.03877541,\n",
       "        -0.03672609, -0.03467677, -0.03262745, -0.03057813, -0.02852881,\n",
       "        -0.02647949, -0.02443017, -0.02238086, -0.02033154, -0.01828222,\n",
       "        -0.0162329 , -0.01418358, -0.01213426, -0.01008494, -0.00803563,\n",
       "        -0.00598631, -0.00393699, -0.00188767,  0.00016165,  0.00221097,\n",
       "         0.00426029,  0.00630961,  0.00835892,  0.01040824,  0.01245756,\n",
       "         0.01450688,  0.0165562 ,  0.01860552,  0.02065484,  0.02270416,\n",
       "         0.02475347,  0.02680279,  0.02885211,  0.03090143,  0.03295075,\n",
       "         0.03500007,  0.03704939,  0.03909871,  0.04114802,  0.04319734,\n",
       "         0.04524666]),\n",
       " <matplotlib.collections.QuadMesh at 0x7fdbdd630b10>)"
      ]
     },
     "execution_count": 14,
     "metadata": {},
     "output_type": "execute_result"
    },
    {
     "data": {
      "image/png": "[encoded data removed]",
      "text/plain": [
       "<Figure size 640x480 with 1 Axes>"
      ]
     },
     "metadata": {},
     "output_type": "display_data"
    }
   ],
   "source": [
    "# plot power heatmap as function of x,y\n",
    "\n",
    "plt.hist2d(xs, ys, bins=50, cmap=plt.cm.jet, weights=powers)\n"
   ]
  },
  {
   "cell_type": "code",
   "execution_count": null,
   "metadata": {},
   "outputs": [],
   "source": []
  }
 ],
 "metadata": {
  "kernelspec": {
   "display_name": "BraidTrigger",
   "language": "python",
   "name": "python3"
  },
  "language_info": {
   "codemirror_mode": {
    "name": "ipython",
    "version": 3
   },
   "file_extension": ".py",
   "mimetype": "text/x-python",
   "name": "python",
   "nbconvert_exporter": "python",
   "pygments_lexer": "ipython3",
   "version": "3.11.4"
  }
 },
 "nbformat": 4,
 "nbformat_minor": 2
}
