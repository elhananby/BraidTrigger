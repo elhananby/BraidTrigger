{
 "cells": [
  {
   "cell_type": "code",
   "execution_count": 99,
   "metadata": {},
   "outputs": [],
   "source": [
    "import numpy as np"
   ]
  },
  {
   "cell_type": "code",
   "execution_count": 121,
   "metadata": {},
   "outputs": [
    {
     "data": {
      "text/plain": [
       "array([ 1.518,  2.776, -2.198, -0.978,  0.213,  1.518])"
      ]
     },
     "execution_count": 121,
     "metadata": {},
     "output_type": "execute_result"
    }
   ],
   "source": [
    "# Given calibration matrix\n",
    "calibration_matrix = np.array(\n",
    "    [\n",
    "        [0, 1.518],\n",
    "        [128.000, 2.776],\n",
    "        [256.000, -2.198],\n",
    "        [384.000, -0.978],\n",
    "        [512.000, 0.213],\n",
    "        [640, 1.518],  # 640 is equivalent to 0 in a periodic sense\n",
    "    ]\n",
    ")\n",
    "\n",
    "# Extract x-locations and headings\n",
    "screen = calibration_matrix[:, 0]\n",
    "headings = calibration_matrix[:, 1]\n",
    "headings"
   ]
  },
  {
   "cell_type": "code",
   "execution_count": 137,
   "metadata": {},
   "outputs": [
    {
     "data": {
      "text/plain": [
       "489.10831234256926"
      ]
     },
     "execution_count": 137,
     "metadata": {},
     "output_type": "execute_result"
    }
   ],
   "source": [
    "angle = 0\n",
    "screen = [0, 128, 256, 384, 512]\n",
    "heading = [1.518, 2.776, -2.198, -0.978, 0.213]\n",
    "\n",
    "np.interp(angle, heading, screen, period=2 * np.pi)"
   ]
  },
  {
   "cell_type": "code",
   "execution_count": null,
   "metadata": {},
   "outputs": [],
   "source": []
  }
 ],
 "metadata": {
  "kernelspec": {
   "display_name": "braid-trigger-env",
   "language": "python",
   "name": "python3"
  },
  "language_info": {
   "codemirror_mode": {
    "name": "ipython",
    "version": 3
   },
   "file_extension": ".py",
   "mimetype": "text/x-python",
   "name": "python",
   "nbconvert_exporter": "python",
   "pygments_lexer": "ipython3",
   "version": "3.11.9"
  }
 },
 "nbformat": 4,
 "nbformat_minor": 2
}
